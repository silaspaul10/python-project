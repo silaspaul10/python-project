{
 "cells": [
  {
   "cell_type": "markdown",
   "id": "b705d9b9",
   "metadata": {},
   "source": [
    "###  -->By this we can find the compound interest.\n",
    "###  To find compound interest we need three inputs that are principle amount,time ,rate of interest.\n",
    "###  And with the formula we can find the actual amount.\n",
    "###  Then compound interest is equal to actual amount minus principal amount.\n",
    "###  Then we have to print actual amount and compound interest.\n"
   ]
  },
  {
   "cell_type": "code",
   "execution_count": null,
   "id": "6256e703",
   "metadata": {},
   "outputs": [],
   "source": [
    "# if the principle amount is compounded annually/yearly.\n",
    "p=int(input('The principle amount'))\n",
    "t=int(input(\"No.of years are  \"))\n",
    "r=float(input(\"Rate of intrest \"))\n",
    "a=p*(1+(r/100))**t\n",
    "ci=a-p\n",
    "print(a,' is the amount')\n",
    "print(ci,\" is the compound intrest. \")"
   ]
  },
  {
   "cell_type": "code",
   "execution_count": null,
   "id": "9cfce04b",
   "metadata": {},
   "outputs": [],
   "source": [
    "# if the principle amount is compounded half yearly.\n",
    "p=int(input(\"enter the principle\"))\n",
    "t=int(input(\"enter the no.of years \"))\n",
    "r=float(input(\"enter rate of intrest \"))\n",
    "a=p*(1+(r/200))**2*t\n",
    "ci=a-p\n",
    "print(a,' is the amount')\n",
    "print(ci,\" is the compound intrest. \")"
   ]
  },
  {
   "cell_type": "code",
   "execution_count": 1,
   "id": "4dd68ce7",
   "metadata": {},
   "outputs": [
    {
     "name": "stdout",
     "output_type": "stream",
     "text": [
      "The principle amount 6000\n",
      "No.of years are  2\n",
      "Rate of intrest 9\n",
      "7128.600000000001  is the amount\n",
      "1128.6000000000013  is the compound intrest. \n"
     ]
    }
   ],
   "source": [
    "p=int(input('The principle amount'))\n",
    "t=int(input(\"No.of years are  \"))\n",
    "r=float(input(\"Rate of intrest \"))\n",
    "a=p*(1+(r/100))**t\n",
    "ci=a-p\n",
    "print(a,' is the amount')\n",
    "print(ci,\" is the compound intrest. \")"
   ]
  },
  {
   "cell_type": "code",
   "execution_count": 2,
   "id": "3d55e218",
   "metadata": {},
   "outputs": [
    {
     "name": "stdout",
     "output_type": "stream",
     "text": [
      "enter the principle 8000\n",
      "enter the no.of years 1\n",
      "enter rate of intrest 10\n",
      "8820.0  is the amount\n",
      "820.0  is the compound intrest. \n"
     ]
    }
   ],
   "source": [
    "# if the principle amount is compounded half yearly.\n",
    "p=int(input(\"enter the principle\"))\n",
    "t=int(input(\"enter the no.of years \"))\n",
    "r=float(input(\"enter rate of intrest \"))\n",
    "a=p*(1+(r/200))**2*t\n",
    "ci=a-p\n",
    "print(a,' is the amount')\n",
    "print(ci,\" is the compound intrest. \")"
   ]
  },
  {
   "cell_type": "code",
   "execution_count": null,
   "id": "921d233b",
   "metadata": {},
   "outputs": [],
   "source": []
  }
 ],
 "metadata": {
  "kernelspec": {
   "display_name": "Python 3 (ipykernel)",
   "language": "python",
   "name": "python3"
  },
  "language_info": {
   "codemirror_mode": {
    "name": "ipython",
    "version": 3
   },
   "file_extension": ".py",
   "mimetype": "text/x-python",
   "name": "python",
   "nbconvert_exporter": "python",
   "pygments_lexer": "ipython3",
   "version": "3.9.12"
  }
 },
 "nbformat": 4,
 "nbformat_minor": 5
}
